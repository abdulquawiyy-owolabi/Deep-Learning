{
  "nbformat": 4,
  "nbformat_minor": 0,
  "metadata": {
    "colab": {
      "provenance": [],
      "gpuType": "T4",
      "authorship_tag": "ABX9TyO31Td2dqfeFl7ftlHl4iO3",
      "include_colab_link": true
    },
    "kernelspec": {
      "name": "python3",
      "display_name": "Python 3"
    },
    "language_info": {
      "name": "python"
    },
    "accelerator": "GPU"
  },
  "cells": [
    {
      "cell_type": "markdown",
      "metadata": {
        "id": "view-in-github",
        "colab_type": "text"
      },
      "source": [
        "<a href=\"https://colab.research.google.com/github/abdulquawiyy-owolabi/Deep-Learning/blob/main/Tutorial_2.ipynb\" target=\"_parent\"><img src=\"https://colab.research.google.com/assets/colab-badge.svg\" alt=\"Open In Colab\"/></a>"
      ]
    },
    {
      "cell_type": "code",
      "source": [
        "import time\n",
        "import numpy as np\n",
        "import matplotlib\n",
        "import matplotlib.pyplot as plt\n",
        "import matplotlib.animation as animation\n",
        "from matplotlib import style\n",
        "import pandas as pd\n",
        "import torch\n",
        "import torch.nn as nn\n",
        "import torch.nn.functional as F\n",
        "import torch.optim as optim"
      ],
      "metadata": {
        "id": "RgKZ-CGqoshN"
      },
      "execution_count": null,
      "outputs": []
    },
    {
      "cell_type": "code",
      "source": [
        "# sset GPU\n",
        "def set_device():\n",
        "  device = \"cuda\" if torch.cuda.is_available() else \"cpu\"\n",
        "  if device != \"cuda\":\n",
        "    print(\"Warning: For this notebook to perform best, \"\n",
        "        \"if possible, in the menu under `Runtime` -> \"\n",
        "        \"`Change runtime type.`  select `GPU` \")\n",
        "  else:\n",
        "    print(\"Using GPU.\")\n",
        "  return device"
      ],
      "metadata": {
        "id": "174LXIl_ot16"
      },
      "execution_count": null,
      "outputs": []
    },
    {
      "cell_type": "code",
      "source": [
        "DEVICE = set_device()"
      ],
      "metadata": {
        "colab": {
          "base_uri": "https://localhost:8080/"
        },
        "id": "X3GxYZgjpLdU",
        "outputId": "5fb46c62-bbbc-42c0-a4e7-6e6d7c056cbd"
      },
      "execution_count": null,
      "outputs": [
        {
          "output_type": "stream",
          "name": "stdout",
          "text": [
            "Using GPU.\n"
          ]
        }
      ]
    },
    {
      "cell_type": "code",
      "source": [],
      "metadata": {
        "id": "0LC-JqjXpN_x"
      },
      "execution_count": null,
      "outputs": []
    },
    {
      "cell_type": "markdown",
      "source": [
        "# Implement a Shallow Narrow Linear Neural Network"
      ],
      "metadata": {
        "id": "b3qaAmfu7jNe"
      }
    },
    {
      "cell_type": "code",
      "source": [
        "class LLNet(nn.Module):\n",
        "  \"\"\"\n",
        "  A Linear Neural Network with one hidden layer.\n",
        "  \"\"\"\n",
        "  def __init__(self, input_dim, hidden_dim, output_dim):\n",
        "    super(LLNet, self).__init__()\n",
        "    self.in_hid = nn.Linear(input_dim, hidden_dim, bias=False)\n",
        "    self.hid_out = nn.Linear(hidden_dim, output_dim, bias=False)\n",
        "\n",
        "  def forward(self, a):\n",
        "    hid = self.in_hid(a)  #hidden layer\n",
        "    # hid = torch.relu(hid)\n",
        "    out = self.hid_out(hid)   #output layer\n",
        "    return out, hid"
      ],
      "metadata": {
        "id": "z46ct4ml7wHI"
      },
      "execution_count": null,
      "outputs": []
    },
    {
      "cell_type": "code",
      "source": [
        "# Singular decomposition\n",
        "def net_svd(model, in_dim):\n",
        "  W_tot = torch.eye(in_dim)\n",
        "  for weight in model.parameters():\n",
        "    W_tot = weight.detach() @ W_tot\n",
        "  U, E, V = torch.svd(W_tot)\n",
        "  return U, E, V\n",
        "\n",
        "# representational similarity matrix\n",
        "def net_rsm(h):\n",
        "  rsm = h@h.T\n",
        "  return rsm\n"
      ],
      "metadata": {
        "id": "R2a-ZgBDPwdz"
      },
      "execution_count": null,
      "outputs": []
    },
    {
      "cell_type": "code",
      "source": [
        "def train(model, inputs, targets, n_epochs, lr, illusory_i=0):\n",
        "  in_dim = input.size(1)\n",
        "  losses = np.zeros(n_epochs)\n",
        "  modes = np.zeros((n_epochs, in_dim))\n",
        "  rs_mats = []\n",
        "  illusion = np.zeros(n_epochs)\n",
        "  optimizer = optim.SGD(model.parameters(), lr=lr)\n",
        "  criterion = nn.MSELoss()\n",
        "\n",
        "  for i in range(n_epochs):\n",
        "    optimizer.zero_grad()\n",
        "    outputs, hid = model(inputs)\n",
        "    loss = criterion(outputs, targets)\n",
        "    loss.backward()\n",
        "    optimizer.step()\n",
        "\n",
        "    # Singular  Value Decomposition\n",
        "    U, E, V = net_svd(model, in_dim)\n",
        "\n",
        "    # Calculating representational similarity matrix\n",
        "    RSM = net_rsm(hid.detach())\n",
        "\n",
        "    # Network Prediction of Illusory_i for the lst feature\n",
        "    pred_ij = outputs.detach()[illusory_i]\n",
        "\n",
        "    # Loggings\n",
        "    losses[i] = loss.item()\n",
        "    modes[i] = E.detach().numpy()\n",
        "    rs_mats.append(RSM.numpy())\n",
        "    illusion[i] = pred_ij.numpy()\n",
        "\n",
        "  return losses, modes, np.array(rs_mats), illusion\n",
        "\n"
      ],
      "metadata": {
        "id": "DyURYI-3OUob"
      },
      "execution_count": null,
      "outputs": []
    },
    {
      "cell_type": "code",
      "source": [
        "def ex_initializer_(model, gamma=1e-12):\n",
        "  for weight in model.parameters():\n",
        "    n_out, n_in = weight.shape\n",
        "    sigma = gamma ** (torch.sqrt(1/(n_in + n_out)))\n",
        "    nn.init.normal_(weight, mean=0, std=sigma)"
      ],
      "metadata": {
        "id": "tTSPlG17Rgqc"
      },
      "execution_count": null,
      "outputs": []
    },
    {
      "cell_type": "code",
      "source": [],
      "metadata": {
        "id": "MXOh3kHkXMAN"
      },
      "execution_count": null,
      "outputs": []
    },
    {
      "cell_type": "code",
      "source": [
        "lr = 100.0\n",
        "gamma = 1e-2  #initialization scale\n",
        "n_epochs = 1000\n",
        "dim_input = 8\n",
        "dim_hidden = 30\n",
        "dim_output = 10000\n",
        "\n",
        "# Model Instantiation\n",
        "dlnn_model = LLNet(dim_input, dim_hidden, dim_output)\n",
        "ex_initializer_(dlnn_model, gamma)\n",
        "tree_labels, tree_features = load_tree_data()\n",
        "input = torch.tensor(tree_features).float()\n",
        "label_tensor = torch.tensor(tree_labels).float()\n",
        "\n",
        "# Training\n",
        "losses, *_ = train(dlnn_model, input, target, n_epochs, lr)"
      ],
      "metadata": {
        "id": "yEp7vXTcSgfo"
      },
      "execution_count": null,
      "outputs": []
    }
  ]
}